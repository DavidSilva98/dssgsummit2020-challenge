{
 "cells": [
  {
   "cell_type": "code",
   "execution_count": 1,
   "metadata": {},
   "outputs": [],
   "source": [
    "import os\n",
    "from os.path import join, pardir\n",
    "from collections import Counter\n",
    "from copy import deepcopy\n",
    "import numpy as np\n",
    "from deap import base, creator, algorithms, tools\n",
    "from dssg_challenge import compute_cost, check_keyboard\n",
    "\n",
    "RNG_SEED = 0\n",
    "DATA_DSSG = join(pardir, 'data', 'raw')\n",
    "\n",
    "rng = np.random.RandomState(RNG_SEED)"
   ]
  },
  {
   "cell_type": "code",
   "execution_count": 2,
   "metadata": {},
   "outputs": [
    {
     "data": {
      "text/plain": [
       "['pt-corpus.txt', '.gitkeep', 'pt-keys.txt', 'en-keys.txt', 'en-corpus.txt']"
      ]
     },
     "execution_count": 2,
     "metadata": {},
     "output_type": "execute_result"
    }
   ],
   "source": [
    "os.listdir(DATA_DSSG)"
   ]
  },
  {
   "cell_type": "code",
   "execution_count": 3,
   "metadata": {},
   "outputs": [],
   "source": [
    "# get keys\n",
    "with open(join(DATA_DSSG, 'en-keys.txt'), 'r') as file:\n",
    "    keys = file.read()\n",
    "\n",
    "# get corpus example\n",
    "with open(join(DATA_DSSG, 'en-corpus.txt'), 'r') as file:\n",
    "    corpus = file.read()\n",
    "\n",
    "keys = ''.join(keys.split('\\n'))\n",
    "corpus = ''.join(corpus.split(keys)).split('\\n')[0]"
   ]
  },
  {
   "cell_type": "markdown",
   "metadata": {},
   "source": [
    "Some keys are used to signal special characters. Namely,\n",
    "\n",
    "- The ENTER key is represented as 0.\n",
    "- The shift key for capitalization is represented as ^.\n",
    "- The backspace key is represented as <.\n",
    "- All the remaining characters not found in the valid keys are encoded as #.\n",
    "- Empty keys will contain the character _.\n"
   ]
  },
  {
   "cell_type": "code",
   "execution_count": 4,
   "metadata": {},
   "outputs": [
    {
     "data": {
      "text/plain": [
       "(34, 'ABCDEFGHIJKLMNOPQ RSTUVWXYZ0.#,^?<')"
      ]
     },
     "execution_count": 4,
     "metadata": {},
     "output_type": "execute_result"
    }
   ],
   "source": [
    "len(keys), keys"
   ]
  },
  {
   "cell_type": "markdown",
   "metadata": {},
   "source": [
    "## The most basic approaches"
   ]
  },
  {
   "cell_type": "code",
   "execution_count": 5,
   "metadata": {},
   "outputs": [
    {
     "data": {
      "text/plain": [
       "[(' ', 83),\n",
       " ('T', 45),\n",
       " ('I', 45),\n",
       " ('O', 39),\n",
       " ('E', 35),\n",
       " ('A', 31),\n",
       " ('S', 27),\n",
       " ('N', 21),\n",
       " ('L', 20),\n",
       " ('H', 19)]"
      ]
     },
     "execution_count": 5,
     "metadata": {},
     "output_type": "execute_result"
    }
   ],
   "source": [
    "Counter(corpus).most_common()[:10]"
   ]
  },
  {
   "cell_type": "code",
   "execution_count": 6,
   "metadata": {},
   "outputs": [
    {
     "data": {
      "text/plain": [
       "' TIOEASNLHRM<DVW#PYKFGUC0BZ.^J,QX?  T'"
      ]
     },
     "execution_count": 6,
     "metadata": {},
     "output_type": "execute_result"
    }
   ],
   "source": [
    "baseline = ''.join([i[0] for i in Counter(corpus).most_common()])\n",
    "baseline = baseline + ''.join([i for i in keys if i not in baseline]) + '  T'\n",
    "baseline"
   ]
  },
  {
   "cell_type": "code",
   "execution_count": 7,
   "metadata": {
    "scrolled": true
   },
   "outputs": [
    {
     "name": "stdout",
     "output_type": "stream",
     "text": [
      "Shuffled cost:\t\t\t 2421.8189712388935\n",
      "Original keys cost:\t\t 2384.127991417558\n",
      "Baseline cost:\t\t\t 1792.1951037269362\n",
      "Anthony Carbajal's solution:\t 1737.8888937148206\n"
     ]
    }
   ],
   "source": [
    "shuffled = list(baseline)\n",
    "rng.shuffle(shuffled)\n",
    "\n",
    "anthony = 'EINOA TCGVDURL<^SWH_Z__XJQFPBMY,#.0K?'\n",
    "\n",
    "check_keyboard(baseline, keys)\n",
    "check_keyboard(keys+'  T', keys)\n",
    "check_keyboard(shuffled, keys)\n",
    "check_keyboard(''.join([i if i!='_' else ' ' for i in anthony]), keys)\n",
    "\n",
    "print('Shuffled cost:\\t\\t\\t', compute_cost(''.join(shuffled), corpus))\n",
    "print('Original keys cost:\\t\\t', compute_cost(keys+' ', corpus))\n",
    "print('Baseline cost:\\t\\t\\t', compute_cost(baseline, corpus))\n",
    "print('Anthony Carbajal\\'s solution:\\t', compute_cost(''.join([i for i in anthony if i!='_']), corpus))"
   ]
  },
  {
   "cell_type": "markdown",
   "metadata": {},
   "source": [
    "## First attempt with GA"
   ]
  },
  {
   "cell_type": "code",
   "execution_count": 8,
   "metadata": {},
   "outputs": [],
   "source": [
    "keys_list = list(keys)\n",
    "\n",
    "def evaluate(individual):\n",
    "    \"\"\"\n",
    "    Computes the cost for each individual.\n",
    "    \"\"\"\n",
    "    try:\n",
    "        check_keyboard(individual, keys)\n",
    "        return [compute_cost(''.join(list(individual)), corpus)]\n",
    "    except AssertionError:\n",
    "        return [np.inf]\n",
    "\n",
    "def mutFlip(ind1, ind2):\n",
    "    \"\"\"Execute a two points crossover with copy on the input individuals. The\n",
    "    copy is required because the slicing in numpy returns a view of the data,\n",
    "    which leads to a self overwritting in the swap operation.\n",
    "    \"\"\"\n",
    "\n",
    "    ind = ind1.copy()\n",
    "    for x, value in np.ndenumerate(ind):\n",
    "        if np.random.random() < .05:\n",
    "            ind[x] = np.random.choice(keys_list)\n",
    "    try:\n",
    "        check_keyboard(ind, keys)\n",
    "        return ind, ind2\n",
    "    except AssertionError:\n",
    "        return mutFlip(individual, ind2)\n",
    "    \n",
    "    return ind, ind2\n"
   ]
  },
  {
   "cell_type": "code",
   "execution_count": null,
   "metadata": {
    "scrolled": true
   },
   "outputs": [
    {
     "name": "stdout",
     "output_type": "stream",
     "text": [
      "gen\tnevals\tavg    \tstd    \tmin    \tmax   \n",
      "0  \t10    \t2483.07\t116.014\t2331.73\t2715.8\n",
      "1  \t6     \t2399.46\t76.1618\t2295.27\t2546.03\n",
      "2  \t5     \t2350.1 \t50.7146\t2295.27\t2427.01\n",
      "3  \t6     \t2311.41\t43.2119\t2258.26\t2428.74\n",
      "4  \t7     \t2310.79\t49.1811\t2258.26\t2408.03\n",
      "5  \t7     \t2293.64\t63.8695\t2196.51\t2417   \n",
      "6  \t3     \t2250.35\t23.0465\t2196.51\t2280.14\n",
      "7  \t7     \t2277.65\t93.3237\t2196.51\t2529.48\n",
      "8  \t5     \t2236.42\t36.6565\t2196.51\t2295.51\n",
      "9  \t5     \t2239.25\t79.6225\t2178.46\t2459.1 \n",
      "10 \t7     \t2225.3 \t54.9709\t2148.9 \t2338.7 \n",
      "11 \t8     \t2217.85\t42.1394\t2148.9 \t2274.79\n",
      "12 \t6     \t2192.42\t31.6581\t2148.9 \t2253.98\n",
      "13 \t4     \t2192.27\t34.4416\t2148.9 \t2251.37\n",
      "14 \t7     \t2177   \t33.9997\t2141.19\t2242.83\n",
      "15 \t7     \t2164.36\t40.0191\t2141.19\t2254.29\n",
      "16 \t9     \t2159.23\t58.9487\t2067.23\t2295.14\n",
      "17 \t4     \t2112.41\t51.57  \t2000.61\t2188.84\n",
      "18 \t5     \t2065.36\t58.7625\t2000.61\t2153.97\n",
      "19 \t5     \t2021.97\t34.2798\t1970.9 \t2078.17\n",
      "20 \t7     \t2038.27\t78.1091\t1970.9 \t2257.2 \n",
      "21 \t7     \t2026.52\t65.4042\t1968.44\t2172.46\n",
      "22 \t4     \t2001.62\t87.3364\t1968.44\t2263.16\n",
      "23 \t5     \t2031.4 \t88.7113\t1968.44\t2233.52\n",
      "24 \t6     \t2028.67\t85.3647\t1966.37\t2252   \n",
      "25 \t6     \t1995   \t58.6524\t1931.43\t2131.8 \n",
      "26 \t8     \t2034.98\t97.5213\t1931.43\t2284.01\n",
      "27 \t6     \t2016.29\t88.9518\t1931.43\t2236.91\n",
      "28 \t5     \t2013.77\t111.461\t1931.43\t2275.78\n",
      "29 \t7     \t1975.41\t49.9514\t1931.43\t2080.25\n",
      "30 \t9     \t1993.28\t52.5952\t1931.43\t2116.48\n",
      "31 \t9     \t2003.92\t61.7891\t1931.43\t2140.98\n",
      "32 \t8     \t1968.17\t37.4498\t1904.12\t2038.01\n",
      "33 \t7     \t2012.82\t104.772\t1904.12\t2228.72\n",
      "34 \t8     \t1967.88\t69.9158\t1902.09\t2105.37\n",
      "35 \t5     \t1953.42\t88.9397\t1897.91\t2192.16\n",
      "36 \t6     \t1941.24\t58.7923\t1897.91\t2074.26\n",
      "37 \t5     \t1932.14\t47.1303\t1897.91\t2049.32\n",
      "38 \t6     \t1936.05\t50.3181\t1897.91\t2045.41\n",
      "39 \t6     \t1973.76\t164.305\t1897.91\t2458.13\n",
      "40 \t4     \t1910.58\t19.2661\t1897.91\t1957.97\n",
      "41 \t5     \t1923.29\t29.5078\t1897.91\t1987.57\n",
      "42 \t4     \t1917.04\t21.519 \t1897.91\t1958.8 \n",
      "43 \t8     \t1948.84\t61.4046\t1895.36\t2072.12\n",
      "44 \t6     \t1930.11\t55.4137\t1897.91\t2065.3 \n",
      "45 \t8     \t2003.56\t132.048\t1889.46\t2328.75\n",
      "46 \t5     \t1928.31\t70.1838\t1889.46\t2116.85\n",
      "47 \t6     \t1973.93\t127.78 \t1889.46\t2222.58\n",
      "48 \t7     \t1946.18\t57.0559\t1889.46\t2050.5 \n",
      "49 \t8     \t1919.38\t50.5443\t1879.06\t2058.96\n",
      "50 \t8     \t1914.39\t35.4737\t1879.06\t1982.91\n",
      "51 \t4     \t1935.58\t100.14 \t1879.06\t2206.55\n",
      "52 \t9     \t2006.62\t121.925\t1879.06\t2277.69\n",
      "53 \t7     \t1965.78\t67.2517\t1879.06\t2060.99\n",
      "54 \t7     \t2013.07\t102.928\t1882.32\t2201.46\n",
      "55 \t6     \t2011.45\t144.741\t1882.32\t2335.23\n",
      "56 \t7     \t1978.15\t78.8441\t1882.32\t2093.15\n",
      "57 \t7     \t2005.79\t135.552\t1882.32\t2377.93\n",
      "58 \t8     \t1997.08\t123.797\t1882.32\t2288.83\n",
      "59 \t8     \t1986.23\t82.6465\t1869.06\t2124.06\n",
      "60 \t7     \t2002.53\t79.0124\t1886.78\t2123.92\n",
      "61 \t6     \t1977.97\t56.7633\t1886.78\t2056.67\n",
      "62 \t6     \t1979.78\t73.1498\t1886.78\t2096.61\n",
      "63 \t8     \t1958.1 \t97.5996\t1885.91\t2169.88\n",
      "64 \t10    \t2027.91\t94.6285\t1876.33\t2175.53\n",
      "65 \t5     \t1996.78\t106.82 \t1876.33\t2236.21\n",
      "66 \t8     \t2012.14\t105.001\t1875.51\t2173.14\n",
      "67 \t5     \t1986.52\t66.2366\t1876.33\t2142.38\n",
      "68 \t6     \t1998.07\t64.838 \t1908.2 \t2117.91\n",
      "69 \t5     \t2011.72\t54.6528\t1925.07\t2111.44\n",
      "70 \t8     \t1997.08\t65.0946\t1925.07\t2137.23\n",
      "71 \t6     \t1986.89\t84.6021\t1891.67\t2150.9 \n",
      "72 \t6     \t1953.41\t64.0767\t1891.67\t2087.84\n",
      "73 \t4     \t1929.92\t51.184 \t1891.67\t2073.72\n",
      "74 \t7     \t1942.63\t81.6925\t1858.19\t2117.86\n",
      "75 \t3     \t1961.38\t138.251\t1858.19\t2262.01\n",
      "76 \t7     \t1991.69\t120.583\t1858.19\t2193.99\n",
      "77 \t6     \t2006.73\t104.894\t1894.54\t2185.61\n",
      "78 \t7     \t1956.65\t75.1001\t1894.54\t2123.87\n",
      "79 \t6     \t1988.46\t118.283\t1894.54\t2285.36\n",
      "80 \t6     \t2010.18\t84.9738\t1894.54\t2208.68\n",
      "81 \t6     \t1963.33\t110.69 \t1858.61\t2259.11\n",
      "82 \t6     \t1887.85\t37.7721\t1855.68\t1956.93\n",
      "83 \t6     \t1888.35\t40.046 \t1855.68\t1959.53\n",
      "84 \t5     \t1886.31\t49.4014\t1855.73\t1991.37\n",
      "85 \t6     \t1941.74\t137.274\t1803.21\t2207.35\n",
      "86 \t8     \t1987.91\t122.544\t1803.21\t2221.27\n",
      "87 \t6     \t1907.44\t80.7794\t1803.21\t2012.35\n",
      "88 \t4     \t1870.26\t71.4425\t1803.21\t2037.06\n",
      "89 \t4     \t1836.14\t54.676 \t1803.21\t1960.31\n",
      "90 \t7     \t1864.63\t83.2011\t1801.88\t2085.09\n",
      "91 \t7     \t1885.55\t70.7951\t1781.55\t2044.18\n",
      "92 \t6     \t1884.51\t92.5252\t1781.55\t2113.01\n",
      "93 \t3     \t1832.89\t41.1778\t1781.55\t1888.17\n",
      "94 \t6     \t1854.16\t95.2619\t1760.9 \t2047.45\n",
      "95 \t4     \t1825.52\t91.6873\t1760.9 \t2041.05\n",
      "96 \t5     \t1833.1 \t84.9656\t1760.9 \t2006.37\n",
      "97 \t6     \t1836.77\t81.0168\t1732.92\t1989.08\n",
      "98 \t4     \t1866.69\t128.921\t1732.92\t2133.8 \n",
      "99 \t6     \t1833.84\t77.063 \t1732.92\t1978.91\n",
      "100\t7     \t1832.59\t55.2877\t1760.9 \t1937.52\n",
      "101\t6     \t1830.4 \t60.1394\t1760.9 \t1951.66\n",
      "102\t5     \t1828.28\t98.0997\t1760.9 \t2052.09\n",
      "103\t7     \t1801.01\t39.398 \t1760.9 \t1869.67\n",
      "104\t7     \t1819.86\t60.3434\t1760.9 \t1932.34\n",
      "105\t4     \t1794.85\t60.8523\t1760.9 \t1958.01\n",
      "106\t8     \t1837.84\t84.0693\t1760.9 \t2042.53\n",
      "107\t5     \t1808.04\t55.9655\t1760.9 \t1933.84\n",
      "108\t5     \t1823.55\t69.1052\t1760.9 \t1962.38\n",
      "109\t6     \t1826.9 \t86.4217\t1760.9 \t2018.3 \n",
      "110\t7     \t1858.03\t120.937\t1760.9 \t2135.55\n",
      "111\t6     \t1825.83\t89.0189\t1760.9 \t2023.62\n",
      "112\t7     \t1832.79\t70.1806\t1760.9 \t1952.85\n",
      "113\t4     \t1791.8 \t48.5283\t1760.9 \t1880.33\n",
      "114\t7     \t1821.29\t95.4166\t1754.95\t2015.25\n",
      "115\t7     \t1809.43\t68.507 \t1754.95\t1959.14\n",
      "116\t6     \t1808.19\t72.8638\t1754.95\t1973.29\n",
      "117\t6     \t1764.07\t30.8929\t1702.44\t1822.5 \n",
      "118\t7     \t1811.28\t88.6032\t1702.44\t1988.62\n",
      "119\t8     \t1855.2 \t141.78 \t1702.44\t2133.6 \n",
      "120\t7     \t1781.87\t90.951 \t1702.44\t1980.83\n",
      "121\t8     \t1769.57\t88.7688\t1702.44\t1951.24\n",
      "122\t6     \t1826.5 \t128.427\t1702.44\t2114.99\n",
      "123\t6     \t1769.9 \t85.6613\t1702.44\t1952.35\n",
      "124\t4     \t1763.63\t90.5137\t1696.15\t1926.49\n",
      "125\t6     \t1744.22\t65.2173\t1696.15\t1907.71\n",
      "126\t5     \t1738.77\t48.3156\t1696.15\t1825.88\n",
      "127\t6     \t1763.29\t71.5862\t1696.15\t1893.39\n",
      "128\t6     \t1763.68\t95.071 \t1696.15\t1941.17\n",
      "129\t3     \t1749.56\t100.208\t1696.15\t1967.82\n",
      "130\t5     \t1751.9 \t101.499\t1696.15\t2012.42\n",
      "131\t6     \t1736.84\t52.8814\t1696.15\t1849.31\n",
      "132\t6     \t1755.97\t69.3267\t1696.15\t1870.89\n",
      "133\t6     \t1814.28\t120.442\t1696.15\t2009.01\n",
      "134\t7     \t1789.25\t107.291\t1696.15\t1996.05\n",
      "135\t7     \t1798.49\t132.855\t1679.1 \t2083.37\n",
      "136\t5     \t1743.63\t68.7906\t1679.1 \t1915.82\n",
      "137\t6     \t1777.24\t114.25 \t1679.1 \t2044.65\n",
      "138\t6     \t1788.8 \t106.985\t1679.1 \t2050.05\n",
      "139\t6     \t1750.05\t61.7088\t1673.47\t1861.41\n",
      "140\t6     \t1719.05\t71.0548\t1673.47\t1923.91\n",
      "141\t7     \t1733.87\t64.9182\t1673.47\t1844.3 \n",
      "142\t7     \t1710.31\t49.2449\t1673.47\t1839.99\n",
      "143\t7     \t1775.08\t101.611\t1673.47\t1952.42\n",
      "144\t6     \t1762.76\t120.405\t1673.47\t2059.8 \n",
      "145\t6     \t1753.34\t122.784\t1673.47\t2102.59\n",
      "146\t6     \t1733.06\t90.3356\t1673.47\t1950   \n",
      "147\t9     \t1720.63\t74.0808\t1673.47\t1916.59\n",
      "148\t8     \t1757.04\t120.674\t1673.47\t2057.28\n",
      "149\t6     \t1708.16\t33.8936\t1673.47\t1775.2 \n",
      "150\t4     \t1719.26\t57.2764\t1673.47\t1863.57\n",
      "151\t6     \t1730.87\t94.1621\t1673.47\t1957.35\n",
      "152\t4     \t1706.4 \t58.1447\t1673.47\t1874.87\n",
      "153\t4     \t1731.89\t113.553\t1673.47\t2054.32\n",
      "154\t4     \t1700.38\t52.5876\t1673.47\t1849.71\n",
      "155\t10    \t1801.9 \t128.41 \t1679.13\t2125.55\n",
      "156\t7     \t1820.18\t84.3519\t1710.35\t2013.32\n",
      "157\t7     \t1767.32\t59.9906\t1710.35\t1915.23\n",
      "158\t6     \t1779.64\t79.5544\t1710.35\t1926.16\n",
      "159\t5     \t1753.59\t89.2433\t1710.35\t2008.42\n",
      "160\t7     \t1800.78\t114.625\t1710.35\t2044.38\n",
      "161\t5     \t1791.88\t107.45 \t1710.35\t2062.37\n",
      "162\t3     \t1731.93\t33.3185\t1710.35\t1822.19\n",
      "163\t8     \t1747.29\t67.746 \t1710.02\t1939.46\n",
      "164\t7     \t1816.89\t98.7864\t1710.02\t1970.04\n",
      "165\t7     \t1798.66\t111.034\t1710.02\t2073.99\n",
      "166\t6     \t1780.19\t69.0748\t1710.02\t1935.13\n",
      "167\t7     \t1821.41\t98.0131\t1710.02\t2009.82\n",
      "168\t7     \t1880.28\t129.91 \t1710.02\t2067.75\n",
      "169\t5     \t1816.1 \t63.1578\t1710.35\t1903.54\n",
      "170\t5     \t1808.99\t78.7417\t1710.35\t1951.01\n",
      "171\t6     \t1779.13\t77.179 \t1710.35\t1952.62\n",
      "172\t7     \t1783.69\t78.9127\t1710.35\t1965.49\n",
      "173\t5     \t1747.72\t55.4529\t1710.35\t1899.47\n",
      "174\t4     \t1739.78\t34.4148\t1710.35\t1814.65\n",
      "175\t7     \t1826.85\t123.017\t1710.35\t2033.11\n",
      "176\t6     \t1835.44\t113.483\t1710.35\t2022.37\n",
      "177\t6     \t1790.31\t131.56 \t1710.35\t2151.77\n",
      "178\t6     \t1758.48\t87.5957\t1709.97\t1992.41\n",
      "179\t6     \t1790.96\t109.602\t1705.92\t1995.56\n",
      "180\t6     \t1746.52\t41.3956\t1705.92\t1832.43\n",
      "181\t6     \t1749.22\t67.8286\t1701.73\t1898.43\n",
      "182\t6     \t1771.18\t96.3485\t1701.73\t2027.86\n",
      "183\t2     \t1758.92\t78.16  \t1701.73\t1944.56\n",
      "184\t6     \t1812.08\t139.511\t1701.73\t2090.93\n",
      "185\t8     \t1751.32\t95.9308\t1683.56\t1975.38\n",
      "186\t6     \t1805.47\t130.076\t1683.56\t2114.95\n",
      "187\t6     \t1749.15\t70.5978\t1683.56\t1923.62\n",
      "188\t6     \t1709.15\t18.7745\t1683.56\t1754.22\n",
      "189\t8     \t1753.39\t61.4641\t1696.23\t1893.67\n",
      "190\t5     \t1753.54\t65.2499\t1696.23\t1910   \n"
     ]
    },
    {
     "name": "stdout",
     "output_type": "stream",
     "text": [
      "191\t4     \t1763.54\t73.8178\t1696.23\t1906.97\n",
      "192\t5     \t1727.36\t54.7568\t1696.23\t1885.28\n",
      "193\t5     \t1751.65\t77.5666\t1696.23\t1937.64\n",
      "194\t7     \t1765.65\t66.9443\t1696.23\t1884.62\n",
      "195\t9     \t1830.28\t128.392\t1682.13\t2114.31\n",
      "196\t6     \t1795.9 \t92.3175\t1682.13\t1929.02\n",
      "197\t7     \t1789.88\t124.137\t1697.29\t2119.16\n",
      "198\t9     \t1795.14\t96.0446\t1697.29\t2010.7 \n",
      "199\t6     \t1776.1 \t72.9562\t1697.29\t1899.96\n",
      "200\t6     \t1758.88\t111.734\t1697.29\t1987.38\n",
      "201\t6     \t1795.52\t126.385\t1696.68\t2068.58\n",
      "202\t4     \t1776.73\t99.0661\t1696.68\t1959.64\n",
      "203\t4     \t1758.9 \t105.651\t1696.68\t1990.53\n",
      "204\t6     \t1812   \t138.713\t1696.68\t2136   \n",
      "205\t5     \t1719.59\t49.0496\t1684.6 \t1859.61\n",
      "206\t4     \t1717.72\t37.7367\t1684.6 \t1811.01\n",
      "207\t7     \t1756.66\t76.4833\t1684.6 \t1879.92\n",
      "208\t4     \t1757.47\t113.159\t1684.6 \t2051.84\n",
      "209\t7     \t1703.58\t36.7386\t1674.08\t1800.42\n",
      "210\t10    \t1745.73\t80.3404\t1674.08\t1951.8 \n",
      "211\t8     \t1787.09\t118.466\t1674.08\t2035.93\n",
      "212\t7     \t1795.71\t125.91 \t1672.51\t2049.39\n"
     ]
    }
   ],
   "source": [
    "creator.create('FitnessMin', base.Fitness, weights=(-1.0,))\n",
    "creator.create('Individual', np.ndarray, fitness=creator.FitnessMin)\n",
    "\n",
    "toolbox = base.Toolbox()\n",
    "\n",
    "# Tool to randomly initialize an individual\n",
    "toolbox.register('attribute',\n",
    "        np.random.permutation, np.array(list(baseline))\n",
    ")\n",
    "\n",
    "toolbox.register('individual',\n",
    "    tools.initIterate,\n",
    "    creator.Individual,\n",
    "    toolbox.attribute\n",
    ")\n",
    "\n",
    "toolbox.register('population',\n",
    "    tools.initRepeat,\n",
    "    list,\n",
    "    toolbox.individual\n",
    ")\n",
    "\n",
    "toolbox.register(\"evaluate\", evaluate)\n",
    "toolbox.register(\"mate\", tools.cxOnePoint)\n",
    "toolbox.register(\"mutate\", tools.mutShuffleIndexes, indpb=0.05)\n",
    "toolbox.register(\"select\", tools.selTournament, tournsize=3)\n",
    "\n",
    "def main():\n",
    "    np.random.seed(64)\n",
    "\n",
    "    pop = toolbox.population(n=10)\n",
    "\n",
    "    # Numpy equality function (operators.eq) between two arrays returns the\n",
    "    # equality element wise, which raises an exception in the if similar()\n",
    "    # check of the hall of fame. Using a different equality function like\n",
    "    # numpy.array_equal or numpy.allclose solve this issue.\n",
    "    hof = tools.HallOfFame(1, similar=np.array_equal)\n",
    "\n",
    "    stats = tools.Statistics(lambda ind: ind.fitness.values)\n",
    "    stats.register(\"avg\", np.mean)\n",
    "    stats.register(\"std\", np.std)\n",
    "    stats.register(\"min\", np.min)\n",
    "    stats.register(\"max\", np.max)\n",
    "\n",
    "    algorithms.eaSimple(pop, toolbox, cxpb=0, mutpb=0.6, ngen=1000, stats=stats,\n",
    "                        halloffame=hof)\n",
    "\n",
    "    return pop, stats, hof\n",
    "\n",
    "\n",
    "pop, stats, hof = main()\n"
   ]
  },
  {
   "cell_type": "code",
   "execution_count": 29,
   "metadata": {},
   "outputs": [
    {
     "data": {
      "text/plain": [
       "' ONYTIAIMZGBCHEDRSL,P#.^0TQX VK?W<JFU'"
      ]
     },
     "execution_count": 29,
     "metadata": {},
     "output_type": "execute_result"
    }
   ],
   "source": [
    "''.join(list(hof)[0])"
   ]
  },
  {
   "cell_type": "code",
   "execution_count": 31,
   "metadata": {},
   "outputs": [
    {
     "data": {
      "text/plain": [
       "1673.418399379088"
      ]
     },
     "execution_count": 31,
     "metadata": {},
     "output_type": "execute_result"
    }
   ],
   "source": [
    "check_keyboard(' ONYTIAIMZGBCHEDRSL,P#.^0TQX VK?W<JFU', keys)\n",
    "compute_cost(' ONYTIAIMZGBCHEDRSL,P#.^0TQX VK?W<JFU', corpus)"
   ]
  },
  {
   "cell_type": "markdown",
   "metadata": {},
   "source": [
    "## Hall of fame solutions\n",
    "\n",
    "    ' ONYTIAIMZGBCHEDRSL,P#.^0TQX VK?W<JFU' - 1673.418"
   ]
  }
 ],
 "metadata": {
  "kernelspec": {
   "display_name": "Python 3",
   "language": "python",
   "name": "python3"
  },
  "language_info": {
   "codemirror_mode": {
    "name": "ipython",
    "version": 3
   },
   "file_extension": ".py",
   "mimetype": "text/x-python",
   "name": "python",
   "nbconvert_exporter": "python",
   "pygments_lexer": "ipython3",
   "version": "3.8.5"
  }
 },
 "nbformat": 4,
 "nbformat_minor": 4
}
