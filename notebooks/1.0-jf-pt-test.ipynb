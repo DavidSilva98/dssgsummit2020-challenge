{
 "cells": [
  {
   "cell_type": "code",
   "execution_count": 1,
   "metadata": {},
   "outputs": [],
   "source": [
    "import os\n",
    "from os.path import join, pardir\n",
    "from collections import Counter\n",
    "from copy import deepcopy\n",
    "import numpy as np\n",
    "from deap import base, creator, algorithms, tools\n",
    "from dssg_challenge import compute_cost, check_keyboard\n",
    "\n",
    "RNG_SEED = 0\n",
    "DATA_DSSG = join(pardir, 'data', 'raw')\n",
    "\n",
    "rng = np.random.RandomState(RNG_SEED)"
   ]
  },
  {
   "cell_type": "code",
   "execution_count": 2,
   "metadata": {},
   "outputs": [
    {
     "data": {
      "text/plain": [
       "['pt-corpus.txt', '.gitkeep', 'pt-keys.txt', 'en-keys.txt', 'en-corpus.txt']"
      ]
     },
     "execution_count": 2,
     "metadata": {},
     "output_type": "execute_result"
    }
   ],
   "source": [
    "os.listdir(DATA_DSSG)"
   ]
  },
  {
   "cell_type": "code",
   "execution_count": 3,
   "metadata": {},
   "outputs": [],
   "source": [
    "# get keys\n",
    "with open(join(DATA_DSSG, 'pt-keys.txt'), 'r') as file:\n",
    "    keys = file.read()\n",
    "\n",
    "# get corpus example\n",
    "with open(join(DATA_DSSG, 'pt-corpus.txt'), 'r') as file:\n",
    "    corpus = file.read()\n",
    "\n",
    "keys = ''.join(keys.split('\\n'))\n",
    "corpus = ''.join(corpus.split(keys)).split('\\n')[0]"
   ]
  },
  {
   "cell_type": "markdown",
   "metadata": {},
   "source": [
    "Some keys are used to signal special characters. Namely,\n",
    "\n",
    "- The ENTER key is represented as 0.\n",
    "- The shift key for capitalization is represented as ^.\n",
    "- The backspace key is represented as <.\n",
    "- All the remaining characters not found in the valid keys are encoded as #.\n",
    "- Empty keys will contain the character _.\n"
   ]
  },
  {
   "cell_type": "code",
   "execution_count": 4,
   "metadata": {},
   "outputs": [
    {
     "data": {
      "text/plain": [
       "(36, \"ABCDEFGHIJKLMNOPQ RSTUVWXYZ0.#,^?<'~\")"
      ]
     },
     "execution_count": 4,
     "metadata": {},
     "output_type": "execute_result"
    }
   ],
   "source": [
    "len(keys), keys"
   ]
  },
  {
   "cell_type": "code",
   "execution_count": 11,
   "metadata": {},
   "outputs": [
    {
     "data": {
      "text/plain": [
       "\"0HER'OIS DO MAR, NOBRE PO<VO,0NA#C~AO VALENTE, IMORTAL,0LEVANTAI HOJE DE NOVO0O ESPLENDOR DE PORTUGAL#0ENTRE AS BRUMAS DA MEM'ORIA,0'O P'ATRIA SENTE#SE A VOZ0DOS TEUS EGR'EGIOS AV'OS,0QUE H'A#DE GUIAR#TE #A VIT'ORIA#00#AS ARMAS, #AS ARMAS#0SOBRE A TERRA, SOBRE O MAR,0#AS ARMAS, #AS ARMAS#0PELA P'ATRIA LUTAR0CONTRA OS <CANH~OES MARCHAR, MARCHAR#00DESFRALDA A INVICTA BANDEIRA,0#A LUZ VIVA DO TEU C'EU#0BRADE A EUROPA #A TERRA INTEIRA#0PORTUGAL N~AO PERECEU0BEIJA O SOLO TEU JUCUNDO0O OCEANO, A RUGIR D#AMOR,0E TEU BRA#CO VENCEDOR0DEU MUNDOS< NOVOS <AO MUNDO#00#AS ARMAS, #AS ARMAS#0SOBRE A <TERRA, SOBRE O MAR,0#AS ARMAS, #AS ARMAS#0PELA P'ATRIA LUTAR0CONTRA OS CANH~OES MARCHAR, MARCHAR#00SAUDAI O SOL QUE DESPONTA0SOBRE UM RIDENTE PORVIR#0SEJA O ECO DE UMA AFRONTA0O SINAL DO RESSURGIR.0RAIOS DESSA AURORA FORTE0S~AO COMO< BEIJOS DE M~AE,0QUE NOS <GUARDAM, NOS SUST#EM,0CONTRA AS <INJ'URIAS DA SORTE.00#AS ARMAS, #AS ARMAS#0SOBRE A <TERRA, SOBRE O MAR,0#AS ARMAS, #AS ARMAS#0PELA P'ATRIA LUTAR0CONTRA OS CANH~OES MARCHAR, MARCHAR#\""
      ]
     },
     "execution_count": 11,
     "metadata": {},
     "output_type": "execute_result"
    }
   ],
   "source": [
    "corpus"
   ]
  },
  {
   "cell_type": "markdown",
   "metadata": {},
   "source": [
    "## The most basic approaches"
   ]
  },
  {
   "cell_type": "code",
   "execution_count": 5,
   "metadata": {},
   "outputs": [
    {
     "data": {
      "text/plain": [
       "[(' ', 138),\n",
       " ('A', 137),\n",
       " ('R', 91),\n",
       " ('O', 78),\n",
       " ('E', 73),\n",
       " ('S', 70),\n",
       " ('0', 44),\n",
       " ('#', 37),\n",
       " ('T', 36),\n",
       " ('M', 35)]"
      ]
     },
     "execution_count": 5,
     "metadata": {},
     "output_type": "execute_result"
    }
   ],
   "source": [
    "Counter(corpus).most_common()[:10]"
   ]
  },
  {
   "cell_type": "code",
   "execution_count": 6,
   "metadata": {},
   "outputs": [
    {
     "data": {
      "text/plain": [
       "\" AROES0#TMNUID,CLPB'VH<G~JQFZ.KWXY^? \""
      ]
     },
     "execution_count": 6,
     "metadata": {},
     "output_type": "execute_result"
    }
   ],
   "source": [
    "baseline = ''.join([i[0] for i in Counter(corpus).most_common()])\n",
    "baseline = baseline + ''.join([i for i in keys if i not in baseline]) + ' '\n",
    "baseline"
   ]
  },
  {
   "cell_type": "code",
   "execution_count": 7,
   "metadata": {
    "scrolled": true
   },
   "outputs": [
    {
     "name": "stdout",
     "output_type": "stream",
     "text": [
      "Shuffled cost:\t\t 5088.806814781539\n",
      "Original keys cost:\t 4541.244466418746\n",
      "Baseline cost:\t\t 3189.713309637487\n"
     ]
    }
   ],
   "source": [
    "shuffled = list(baseline)\n",
    "rng.shuffle(shuffled)\n",
    "\n",
    "check_keyboard(baseline, keys)\n",
    "check_keyboard(keys+' ', keys)\n",
    "check_keyboard(shuffled, keys)\n",
    "\n",
    "print('Shuffled cost:\\t\\t', compute_cost(''.join(shuffled), corpus))\n",
    "print('Original keys cost:\\t', compute_cost(keys+' ', corpus))\n",
    "print('Baseline cost:\\t\\t', compute_cost(baseline, corpus))"
   ]
  },
  {
   "cell_type": "markdown",
   "metadata": {},
   "source": [
    "## First attempt with GA"
   ]
  },
  {
   "cell_type": "code",
   "execution_count": 8,
   "metadata": {},
   "outputs": [],
   "source": [
    "keys_list = list(keys)\n",
    "\n",
    "def evaluate(individual):\n",
    "    \"\"\"\n",
    "    Computes the cost for each individual.\n",
    "    \"\"\"\n",
    "    try:\n",
    "        check_keyboard(individual, keys)\n",
    "        return [compute_cost(''.join(list(individual)), corpus)]\n",
    "    except AssertionError:\n",
    "        return [np.inf]\n",
    "\n",
    "def mutFlip(ind1, ind2):\n",
    "    \"\"\"Execute a two points crossover with copy on the input individuals. The\n",
    "    copy is required because the slicing in numpy returns a view of the data,\n",
    "    which leads to a self overwritting in the swap operation.\n",
    "    \"\"\"\n",
    "\n",
    "    ind = ind1.copy()\n",
    "    for x, value in np.ndenumerate(ind):\n",
    "        if np.random.random() < .05:\n",
    "            ind[x] = np.random.choice(keys_list)\n",
    "    try:\n",
    "        check_keyboard(ind, keys)\n",
    "        return ind, ind2\n",
    "    except AssertionError:\n",
    "        return mutFlip(individual, ind2)\n",
    "    \n",
    "    return ind, ind2\n"
   ]
  },
  {
   "cell_type": "code",
   "execution_count": 13,
   "metadata": {
    "scrolled": false
   },
   "outputs": [
    {
     "name": "stdout",
     "output_type": "stream",
     "text": [
      "gen\tnevals\tavg    \tstd    \tmin    \tmax    \n",
      "0  \t2     \t5081.14\t156.206\t4924.93\t5237.34\n",
      "1  \t2     \t4990.37\t5.43034\t4984.94\t4995.8 \n",
      "2  \t2     \t5468.93\t228.257\t5240.67\t5697.19\n",
      "3  \t1     \t5228.14\t12.536 \t5215.6 \t5240.67\n",
      "4  \t2     \t5107.66\t107.942\t4999.72\t5215.6 \n",
      "5  \t2     \t4922.76\t76.9588\t4845.8 \t4999.72\n",
      "6  \t2     \t4875.98\t9.67329\t4866.31\t4885.65\n",
      "7  \t1     \t4697.91\t168.393\t4529.52\t4866.31\n",
      "8  \t2     \t4541.9 \t237.534\t4304.36\t4779.43\n",
      "9  \t2     \t4653.47\t186.525\t4466.95\t4840   \n",
      "10 \t1     \t4434.81\t32.1355\t4402.68\t4466.95\n",
      "11 \t2     \t4798.12\t15.774 \t4782.35\t4813.9 \n",
      "12 \t1     \t5051.86\t269.506\t4782.35\t5321.36\n",
      "13 \t1     \t4792.02\t9.66821\t4782.35\t4801.69\n",
      "14 \t0     \t4792.02\t9.66821\t4782.35\t4801.69\n",
      "15 \t1     \t4792.44\t10.0883\t4782.35\t4802.53\n"
     ]
    },
    {
     "ename": "KeyboardInterrupt",
     "evalue": "",
     "output_type": "error",
     "traceback": [
      "\u001b[0;31m---------------------------------------------------------------------------\u001b[0m",
      "\u001b[0;31mKeyboardInterrupt\u001b[0m                         Traceback (most recent call last)",
      "\u001b[0;32m<ipython-input-13-f8aeefc01d95>\u001b[0m in \u001b[0;36m<module>\u001b[0;34m\u001b[0m\n\u001b[1;32m     49\u001b[0m \u001b[0;34m\u001b[0m\u001b[0m\n\u001b[1;32m     50\u001b[0m \u001b[0;34m\u001b[0m\u001b[0m\n\u001b[0;32m---> 51\u001b[0;31m \u001b[0mpop\u001b[0m\u001b[0;34m,\u001b[0m \u001b[0mstats\u001b[0m\u001b[0;34m,\u001b[0m \u001b[0mhof\u001b[0m \u001b[0;34m=\u001b[0m \u001b[0mmain\u001b[0m\u001b[0;34m(\u001b[0m\u001b[0;34m)\u001b[0m\u001b[0;34m\u001b[0m\u001b[0;34m\u001b[0m\u001b[0m\n\u001b[0m",
      "\u001b[0;32m<ipython-input-13-f8aeefc01d95>\u001b[0m in \u001b[0;36mmain\u001b[0;34m()\u001b[0m\n\u001b[1;32m     43\u001b[0m     \u001b[0mstats\u001b[0m\u001b[0;34m.\u001b[0m\u001b[0mregister\u001b[0m\u001b[0;34m(\u001b[0m\u001b[0;34m\"max\"\u001b[0m\u001b[0;34m,\u001b[0m \u001b[0mnp\u001b[0m\u001b[0;34m.\u001b[0m\u001b[0mmax\u001b[0m\u001b[0;34m)\u001b[0m\u001b[0;34m\u001b[0m\u001b[0;34m\u001b[0m\u001b[0m\n\u001b[1;32m     44\u001b[0m \u001b[0;34m\u001b[0m\u001b[0m\n\u001b[0;32m---> 45\u001b[0;31m     algorithms.eaSimple(pop, toolbox, cxpb=0, mutpb=0.6, ngen=1000, stats=stats,\n\u001b[0m\u001b[1;32m     46\u001b[0m                         halloffame=hof)\n\u001b[1;32m     47\u001b[0m \u001b[0;34m\u001b[0m\u001b[0m\n",
      "\u001b[0;32m~/miniconda3/envs/als-dssg/lib/python3.8/site-packages/deap/algorithms.py\u001b[0m in \u001b[0;36meaSimple\u001b[0;34m(population, toolbox, cxpb, mutpb, ngen, stats, halloffame, verbose)\u001b[0m\n\u001b[1;32m    171\u001b[0m         \u001b[0minvalid_ind\u001b[0m \u001b[0;34m=\u001b[0m \u001b[0;34m[\u001b[0m\u001b[0mind\u001b[0m \u001b[0;32mfor\u001b[0m \u001b[0mind\u001b[0m \u001b[0;32min\u001b[0m \u001b[0moffspring\u001b[0m \u001b[0;32mif\u001b[0m \u001b[0;32mnot\u001b[0m \u001b[0mind\u001b[0m\u001b[0;34m.\u001b[0m\u001b[0mfitness\u001b[0m\u001b[0;34m.\u001b[0m\u001b[0mvalid\u001b[0m\u001b[0;34m]\u001b[0m\u001b[0;34m\u001b[0m\u001b[0;34m\u001b[0m\u001b[0m\n\u001b[1;32m    172\u001b[0m         \u001b[0mfitnesses\u001b[0m \u001b[0;34m=\u001b[0m \u001b[0mtoolbox\u001b[0m\u001b[0;34m.\u001b[0m\u001b[0mmap\u001b[0m\u001b[0;34m(\u001b[0m\u001b[0mtoolbox\u001b[0m\u001b[0;34m.\u001b[0m\u001b[0mevaluate\u001b[0m\u001b[0;34m,\u001b[0m \u001b[0minvalid_ind\u001b[0m\u001b[0;34m)\u001b[0m\u001b[0;34m\u001b[0m\u001b[0;34m\u001b[0m\u001b[0m\n\u001b[0;32m--> 173\u001b[0;31m         \u001b[0;32mfor\u001b[0m \u001b[0mind\u001b[0m\u001b[0;34m,\u001b[0m \u001b[0mfit\u001b[0m \u001b[0;32min\u001b[0m \u001b[0mzip\u001b[0m\u001b[0;34m(\u001b[0m\u001b[0minvalid_ind\u001b[0m\u001b[0;34m,\u001b[0m \u001b[0mfitnesses\u001b[0m\u001b[0;34m)\u001b[0m\u001b[0;34m:\u001b[0m\u001b[0;34m\u001b[0m\u001b[0;34m\u001b[0m\u001b[0m\n\u001b[0m\u001b[1;32m    174\u001b[0m             \u001b[0mind\u001b[0m\u001b[0;34m.\u001b[0m\u001b[0mfitness\u001b[0m\u001b[0;34m.\u001b[0m\u001b[0mvalues\u001b[0m \u001b[0;34m=\u001b[0m \u001b[0mfit\u001b[0m\u001b[0;34m\u001b[0m\u001b[0;34m\u001b[0m\u001b[0m\n\u001b[1;32m    175\u001b[0m \u001b[0;34m\u001b[0m\u001b[0m\n",
      "\u001b[0;32m<ipython-input-8-3b38cb76f9e7>\u001b[0m in \u001b[0;36mevaluate\u001b[0;34m(individual)\u001b[0m\n\u001b[1;32m      7\u001b[0m     \u001b[0;32mtry\u001b[0m\u001b[0;34m:\u001b[0m\u001b[0;34m\u001b[0m\u001b[0;34m\u001b[0m\u001b[0m\n\u001b[1;32m      8\u001b[0m         \u001b[0mcheck_keyboard\u001b[0m\u001b[0;34m(\u001b[0m\u001b[0mindividual\u001b[0m\u001b[0;34m,\u001b[0m \u001b[0mkeys\u001b[0m\u001b[0;34m)\u001b[0m\u001b[0;34m\u001b[0m\u001b[0;34m\u001b[0m\u001b[0m\n\u001b[0;32m----> 9\u001b[0;31m         \u001b[0;32mreturn\u001b[0m \u001b[0;34m[\u001b[0m\u001b[0mcompute_cost\u001b[0m\u001b[0;34m(\u001b[0m\u001b[0;34m''\u001b[0m\u001b[0;34m.\u001b[0m\u001b[0mjoin\u001b[0m\u001b[0;34m(\u001b[0m\u001b[0mlist\u001b[0m\u001b[0;34m(\u001b[0m\u001b[0mindividual\u001b[0m\u001b[0;34m)\u001b[0m\u001b[0;34m)\u001b[0m\u001b[0;34m,\u001b[0m \u001b[0mcorpus\u001b[0m\u001b[0;34m)\u001b[0m\u001b[0;34m]\u001b[0m\u001b[0;34m\u001b[0m\u001b[0;34m\u001b[0m\u001b[0m\n\u001b[0m\u001b[1;32m     10\u001b[0m     \u001b[0;32mexcept\u001b[0m \u001b[0mAssertionError\u001b[0m\u001b[0;34m:\u001b[0m\u001b[0;34m\u001b[0m\u001b[0;34m\u001b[0m\u001b[0m\n\u001b[1;32m     11\u001b[0m         \u001b[0;32mreturn\u001b[0m \u001b[0;34m[\u001b[0m\u001b[0mnp\u001b[0m\u001b[0;34m.\u001b[0m\u001b[0minf\u001b[0m\u001b[0;34m]\u001b[0m\u001b[0;34m\u001b[0m\u001b[0;34m\u001b[0m\u001b[0m\n",
      "\u001b[0;32m~/Desktop/dssgsummit2020-challenge/dssg_challenge/compute_cost.py\u001b[0m in \u001b[0;36mcompute_cost\u001b[0;34m(keyboard, corpus)\u001b[0m\n\u001b[1;32m     65\u001b[0m         \u001b[0;32mfor\u001b[0m \u001b[0mnext_pos\u001b[0m \u001b[0;32min\u001b[0m \u001b[0mmapping\u001b[0m\u001b[0;34m.\u001b[0m\u001b[0mget\u001b[0m\u001b[0;34m(\u001b[0m\u001b[0mcorpus\u001b[0m\u001b[0;34m[\u001b[0m\u001b[0mnode_char_idx\u001b[0m \u001b[0;34m+\u001b[0m \u001b[0;36m1\u001b[0m\u001b[0;34m]\u001b[0m\u001b[0;34m,\u001b[0m \u001b[0;34m[\u001b[0m\u001b[0;34m]\u001b[0m\u001b[0;34m)\u001b[0m\u001b[0;34m:\u001b[0m\u001b[0;34m\u001b[0m\u001b[0;34m\u001b[0m\u001b[0m\n\u001b[1;32m     66\u001b[0m             \u001b[0mnext_cost\u001b[0m \u001b[0;34m=\u001b[0m \u001b[0mnode_cost\u001b[0m \u001b[0;34m+\u001b[0m\u001b[0;31m \u001b[0m\u001b[0;31m\\\u001b[0m\u001b[0;34m\u001b[0m\u001b[0;34m\u001b[0m\u001b[0m\n\u001b[0;32m---> 67\u001b[0;31m                 np.sqrt(np.sum(np.square(COORDS[next_pos] -\n\u001b[0m\u001b[1;32m     68\u001b[0m                                          COORDS[node_key_idx])))\n\u001b[1;32m     69\u001b[0m \u001b[0;34m\u001b[0m\u001b[0m\n",
      "\u001b[0;32m<__array_function__ internals>\u001b[0m in \u001b[0;36msum\u001b[0;34m(*args, **kwargs)\u001b[0m\n",
      "\u001b[0;32m~/miniconda3/envs/als-dssg/lib/python3.8/site-packages/numpy/core/fromnumeric.py\u001b[0m in \u001b[0;36msum\u001b[0;34m(a, axis, dtype, out, keepdims, initial, where)\u001b[0m\n\u001b[1;32m   2239\u001b[0m         \u001b[0;32mreturn\u001b[0m \u001b[0mres\u001b[0m\u001b[0;34m\u001b[0m\u001b[0;34m\u001b[0m\u001b[0m\n\u001b[1;32m   2240\u001b[0m \u001b[0;34m\u001b[0m\u001b[0m\n\u001b[0;32m-> 2241\u001b[0;31m     return _wrapreduction(a, np.add, 'sum', axis, dtype, out, keepdims=keepdims,\n\u001b[0m\u001b[1;32m   2242\u001b[0m                           initial=initial, where=where)\n\u001b[1;32m   2243\u001b[0m \u001b[0;34m\u001b[0m\u001b[0m\n",
      "\u001b[0;31mKeyboardInterrupt\u001b[0m: "
     ]
    }
   ],
   "source": [
    "creator.create('FitnessMin', base.Fitness, weights=(-1.0,))\n",
    "creator.create('Individual', np.ndarray, fitness=creator.FitnessMin)\n",
    "\n",
    "toolbox = base.Toolbox()\n",
    "\n",
    "# Tool to randomly initialize an individual\n",
    "toolbox.register('attribute',\n",
    "        np.random.permutation, np.array(list(baseline))\n",
    ")\n",
    "\n",
    "toolbox.register('individual',\n",
    "    tools.initIterate,\n",
    "    creator.Individual,\n",
    "    toolbox.attribute\n",
    ")\n",
    "\n",
    "toolbox.register('population',\n",
    "    tools.initRepeat,\n",
    "    list,\n",
    "    toolbox.individual\n",
    ")\n",
    "\n",
    "toolbox.register(\"evaluate\", evaluate)\n",
    "toolbox.register(\"mate\", tools.cxOnePoint)\n",
    "toolbox.register(\"mutate\", tools.mutShuffleIndexes, indpb=0.05)\n",
    "toolbox.register(\"select\", tools.selTournament, tournsize=3)\n",
    "\n",
    "def main():\n",
    "    np.random.seed(64)\n",
    "\n",
    "    pop = toolbox.population(n=2)\n",
    "\n",
    "    # Numpy equality function (operators.eq) between two arrays returns the\n",
    "    # equality element wise, which raises an exception in the if similar()\n",
    "    # check of the hall of fame. Using a different equality function like\n",
    "    # numpy.array_equal or numpy.allclose solve this issue.\n",
    "    hof = tools.HallOfFame(1, similar=np.array_equal)\n",
    "\n",
    "    stats = tools.Statistics(lambda ind: ind.fitness.values)\n",
    "    stats.register(\"avg\", np.mean)\n",
    "    stats.register(\"std\", np.std)\n",
    "    stats.register(\"min\", np.min)\n",
    "    stats.register(\"max\", np.max)\n",
    "\n",
    "    algorithms.eaSimple(pop, toolbox, cxpb=0, mutpb=0.6, ngen=1000, stats=stats,\n",
    "                        halloffame=hof)\n",
    "\n",
    "    return pop, stats, hof\n",
    "\n",
    "\n",
    "pop, stats, hof = main()\n"
   ]
  }
 ],
 "metadata": {
  "kernelspec": {
   "display_name": "Python 3",
   "language": "python",
   "name": "python3"
  },
  "language_info": {
   "codemirror_mode": {
    "name": "ipython",
    "version": 3
   },
   "file_extension": ".py",
   "mimetype": "text/x-python",
   "name": "python",
   "nbconvert_exporter": "python",
   "pygments_lexer": "ipython3",
   "version": "3.8.5"
  }
 },
 "nbformat": 4,
 "nbformat_minor": 4
}
