{
 "cells": [
  {
   "cell_type": "code",
   "execution_count": 1,
   "metadata": {},
   "outputs": [],
   "source": [
    "import os\n",
    "from os.path import join, pardir\n",
    "from collections import Counter\n",
    "from copy import deepcopy\n",
    "import numpy as np\n",
    "from deap import base, creator, algorithms, tools\n",
    "from dssg_challenge import compute_cost, check_keyboard\n",
    "\n",
    "RNG_SEED = 0\n",
    "DATA_DSSG = join(pardir, 'data', 'raw')\n",
    "\n",
    "rng = np.random.RandomState(RNG_SEED)"
   ]
  },
  {
   "cell_type": "code",
   "execution_count": 2,
   "metadata": {},
   "outputs": [
    {
     "data": {
      "text/plain": [
       "['pt-corpus.txt', '.gitkeep', 'pt-keys.txt', 'en-keys.txt', 'en-corpus.txt']"
      ]
     },
     "execution_count": 2,
     "metadata": {},
     "output_type": "execute_result"
    }
   ],
   "source": [
    "os.listdir(DATA_DSSG)"
   ]
  },
  {
   "cell_type": "code",
   "execution_count": 3,
   "metadata": {},
   "outputs": [],
   "source": [
    "# get keys\n",
    "with open(join(DATA_DSSG, 'pt-keys.txt'), 'r') as file:\n",
    "    keys = file.read()\n",
    "\n",
    "# get corpus example\n",
    "with open(join(DATA_DSSG, 'pt-corpus.txt'), 'r') as file:\n",
    "    corpus = file.read()\n",
    "\n",
    "keys = ''.join(keys.split('\\n'))\n",
    "corpus = ''.join(corpus.split(keys)).split('\\n')[0]"
   ]
  },
  {
   "cell_type": "markdown",
   "metadata": {},
   "source": [
    "Some keys are used to signal special characters. Namely,\n",
    "\n",
    "- The ENTER key is represented as 0.\n",
    "- The shift key for capitalization is represented as ^.\n",
    "- The backspace key is represented as <.\n",
    "- All the remaining characters not found in the valid keys are encoded as #.\n",
    "- Empty keys will contain the character _.\n"
   ]
  },
  {
   "cell_type": "code",
   "execution_count": 4,
   "metadata": {},
   "outputs": [
    {
     "data": {
      "text/plain": [
       "(36, \"ABCDEFGHIJKLMNOPQ RSTUVWXYZ0.#,^?<'~\")"
      ]
     },
     "execution_count": 4,
     "metadata": {},
     "output_type": "execute_result"
    }
   ],
   "source": [
    "len(keys), keys"
   ]
  },
  {
   "cell_type": "markdown",
   "metadata": {},
   "source": [
    "## The most basic approaches"
   ]
  },
  {
   "cell_type": "code",
   "execution_count": 5,
   "metadata": {},
   "outputs": [
    {
     "data": {
      "text/plain": [
       "[(' ', 138),\n",
       " ('A', 137),\n",
       " ('R', 91),\n",
       " ('O', 78),\n",
       " ('E', 73),\n",
       " ('S', 70),\n",
       " ('0', 44),\n",
       " ('#', 37),\n",
       " ('T', 36),\n",
       " ('M', 35)]"
      ]
     },
     "execution_count": 5,
     "metadata": {},
     "output_type": "execute_result"
    }
   ],
   "source": [
    "Counter(corpus).most_common()[:10]"
   ]
  },
  {
   "cell_type": "code",
   "execution_count": 6,
   "metadata": {},
   "outputs": [
    {
     "data": {
      "text/plain": [
       "\" AROES0#TMNUID,CLPB'VH<G~JQFZ.KWXY^? \""
      ]
     },
     "execution_count": 6,
     "metadata": {},
     "output_type": "execute_result"
    }
   ],
   "source": [
    "baseline = ''.join([i[0] for i in Counter(corpus).most_common()])\n",
    "baseline = baseline + ''.join([i for i in keys if i not in baseline]) + ' '\n",
    "baseline"
   ]
  },
  {
   "cell_type": "code",
   "execution_count": 7,
   "metadata": {
    "scrolled": true
   },
   "outputs": [
    {
     "name": "stdout",
     "output_type": "stream",
     "text": [
      "Shuffled cost:\t\t 5088.806814781539\n",
      "Original keys cost:\t 4541.244466418746\n",
      "Baseline cost:\t\t 3189.713309637487\n"
     ]
    }
   ],
   "source": [
    "shuffled = list(baseline)\n",
    "rng.shuffle(shuffled)\n",
    "\n",
    "check_keyboard(baseline, keys)\n",
    "check_keyboard(keys+' ', keys)\n",
    "check_keyboard(shuffled, keys)\n",
    "\n",
    "print('Shuffled cost:\\t\\t', compute_cost(''.join(shuffled), corpus))\n",
    "print('Original keys cost:\\t', compute_cost(keys+' ', corpus))\n",
    "print('Baseline cost:\\t\\t', compute_cost(baseline, corpus))"
   ]
  },
  {
   "cell_type": "markdown",
   "metadata": {},
   "source": [
    "## First attempt with GA"
   ]
  },
  {
   "cell_type": "code",
   "execution_count": 8,
   "metadata": {},
   "outputs": [],
   "source": [
    "keys_list = list(keys)\n",
    "\n",
    "def evaluate(individual):\n",
    "    \"\"\"\n",
    "    Computes the cost for each individual.\n",
    "    \"\"\"\n",
    "    try:\n",
    "        check_keyboard(individual, keys)\n",
    "        return [compute_cost(''.join(list(individual)), corpus)]\n",
    "    except AssertionError:\n",
    "        return [np.inf]\n",
    "\n",
    "def mutFlip(ind1, ind2):\n",
    "    \"\"\"Execute a two points crossover with copy on the input individuals. The\n",
    "    copy is required because the slicing in numpy returns a view of the data,\n",
    "    which leads to a self overwritting in the swap operation.\n",
    "    \"\"\"\n",
    "\n",
    "    ind = ind1.copy()\n",
    "    for x, value in np.ndenumerate(ind):\n",
    "        if np.random.random() < .05:\n",
    "            ind[x] = np.random.choice(keys_list)\n",
    "    try:\n",
    "        check_keyboard(ind, keys)\n",
    "        return ind, ind2\n",
    "    except AssertionError:\n",
    "        return mutFlip(individual, ind2)\n",
    "    \n",
    "    return ind, ind2\n"
   ]
  },
  {
   "cell_type": "code",
   "execution_count": 10,
   "metadata": {
    "scrolled": false
   },
   "outputs": [
    {
     "name": "stderr",
     "output_type": "stream",
     "text": [
      "/Users/jfonseca/miniconda3/envs/als-dssg/lib/python3.8/site-packages/deap/creator.py:138: RuntimeWarning: A class named 'FitnessMin' has already been created and it will be overwritten. Consider deleting previous creation of that class or rename it.\n",
      "  warnings.warn(\"A class named '{0}' has already been created and it \"\n",
      "/Users/jfonseca/miniconda3/envs/als-dssg/lib/python3.8/site-packages/deap/creator.py:138: RuntimeWarning: A class named 'Individual' has already been created and it will be overwritten. Consider deleting previous creation of that class or rename it.\n",
      "  warnings.warn(\"A class named '{0}' has already been created and it \"\n"
     ]
    },
    {
     "name": "stdout",
     "output_type": "stream",
     "text": [
      "gen\tnevals\tavg   \tstd    \tmin    \tmax    \n",
      "0  \t5     \t5124.5\t215.719\t4924.93\t5496.35\n",
      "1  \t5     \t5102.7\t172.209\t4805.56\t5309.41\n",
      "2  \t4     \t4947.41\t204.156\t4739.22\t5237.11\n",
      "3  \t4     \t4876.08\t155.285\t4739.22\t5087.46\n",
      "4  \t2     \t4857.91\t188.611\t4739.22\t5225.97\n",
      "5  \t2     \t4776.78\t39.3265\t4739.22\t4845.92\n",
      "6  \t4     \t4788.22\t62.4632\t4699.64\t4874.88\n",
      "7  \t2     \t4705.59\t85.9379\t4562.31\t4828.77\n",
      "8  \t3     \t4794.84\t272.239\t4488.07\t5302.44\n",
      "9  \t2     \t4724.32\t49.6916\t4698   \t4823.6 \n",
      "10 \t1     \t4698   \t0      \t4698   \t4698   \n",
      "11 \t3     \t4808.16\t163.697\t4698   \t5130.61\n",
      "12 \t4     \t4768.66\t120.284\t4604.67\t4945.67\n",
      "13 \t3     \t4721.48\t147.665\t4526.53\t4906.75\n",
      "14 \t5     \t4623.41\t130.21 \t4461.89\t4836.03\n",
      "15 \t2     \t4551.92\t179.933\t4383.6 \t4894.41\n",
      "16 \t4     \t4525.61\t112.688\t4383.6 \t4688.57\n",
      "17 \t3     \t4533.52\t98.2449\t4383.6 \t4666.13\n",
      "18 \t4     \t4447.19\t58.3612\t4376.37\t4527.76\n",
      "19 \t1     \t4377.82\t2.89104\t4376.37\t4383.6 \n",
      "20 \t2     \t4384.38\t16.0149\t4376.37\t4416.41\n",
      "21 \t3     \t4378.23\t42.2841\t4314.27\t4447.79\n",
      "22 \t2     \t4508.25\t326.291\t4314.27\t5158.52\n",
      "23 \t2     \t4380.95\t134.076\t4312.84\t4649.1 \n",
      "24 \t2     \t4494.17\t259.484\t4312.84\t4979.96\n",
      "25 \t2     \t4425.66\t217.185\t4312.84\t4859.87\n",
      "26 \t3     \t4368.36\t80.4472\t4312.84\t4520.33\n",
      "27 \t1     \t4326.58\t27.4836\t4312.84\t4381.55\n",
      "28 \t4     \t4378.37\t131.429\t4277.76\t4638.21\n",
      "29 \t2     \t4313.94\t20.3371\t4277.76\t4336.29\n",
      "30 \t4     \t4357.82\t64.9018\t4277.76\t4448.91\n"
     ]
    },
    {
     "ename": "KeyboardInterrupt",
     "evalue": "",
     "output_type": "error",
     "traceback": [
      "\u001b[0;31m---------------------------------------------------------------------------\u001b[0m",
      "\u001b[0;31mKeyboardInterrupt\u001b[0m                         Traceback (most recent call last)",
      "\u001b[0;32m<ipython-input-10-4ccfebd68036>\u001b[0m in \u001b[0;36m<module>\u001b[0;34m\u001b[0m\n\u001b[1;32m     49\u001b[0m \u001b[0;34m\u001b[0m\u001b[0m\n\u001b[1;32m     50\u001b[0m \u001b[0;34m\u001b[0m\u001b[0m\n\u001b[0;32m---> 51\u001b[0;31m \u001b[0mpop\u001b[0m\u001b[0;34m,\u001b[0m \u001b[0mstats\u001b[0m\u001b[0;34m,\u001b[0m \u001b[0mhof\u001b[0m \u001b[0;34m=\u001b[0m \u001b[0mmain\u001b[0m\u001b[0;34m(\u001b[0m\u001b[0;34m)\u001b[0m\u001b[0;34m\u001b[0m\u001b[0;34m\u001b[0m\u001b[0m\n\u001b[0m",
      "\u001b[0;32m<ipython-input-10-4ccfebd68036>\u001b[0m in \u001b[0;36mmain\u001b[0;34m()\u001b[0m\n\u001b[1;32m     43\u001b[0m     \u001b[0mstats\u001b[0m\u001b[0;34m.\u001b[0m\u001b[0mregister\u001b[0m\u001b[0;34m(\u001b[0m\u001b[0;34m\"max\"\u001b[0m\u001b[0;34m,\u001b[0m \u001b[0mnp\u001b[0m\u001b[0;34m.\u001b[0m\u001b[0mmax\u001b[0m\u001b[0;34m)\u001b[0m\u001b[0;34m\u001b[0m\u001b[0;34m\u001b[0m\u001b[0m\n\u001b[1;32m     44\u001b[0m \u001b[0;34m\u001b[0m\u001b[0m\n\u001b[0;32m---> 45\u001b[0;31m     algorithms.eaSimple(pop, toolbox, cxpb=0, mutpb=0.6, ngen=1000, stats=stats,\n\u001b[0m\u001b[1;32m     46\u001b[0m                         halloffame=hof)\n\u001b[1;32m     47\u001b[0m \u001b[0;34m\u001b[0m\u001b[0m\n",
      "\u001b[0;32m~/miniconda3/envs/als-dssg/lib/python3.8/site-packages/deap/algorithms.py\u001b[0m in \u001b[0;36meaSimple\u001b[0;34m(population, toolbox, cxpb, mutpb, ngen, stats, halloffame, verbose)\u001b[0m\n\u001b[1;32m    171\u001b[0m         \u001b[0minvalid_ind\u001b[0m \u001b[0;34m=\u001b[0m \u001b[0;34m[\u001b[0m\u001b[0mind\u001b[0m \u001b[0;32mfor\u001b[0m \u001b[0mind\u001b[0m \u001b[0;32min\u001b[0m \u001b[0moffspring\u001b[0m \u001b[0;32mif\u001b[0m \u001b[0;32mnot\u001b[0m \u001b[0mind\u001b[0m\u001b[0;34m.\u001b[0m\u001b[0mfitness\u001b[0m\u001b[0;34m.\u001b[0m\u001b[0mvalid\u001b[0m\u001b[0;34m]\u001b[0m\u001b[0;34m\u001b[0m\u001b[0;34m\u001b[0m\u001b[0m\n\u001b[1;32m    172\u001b[0m         \u001b[0mfitnesses\u001b[0m \u001b[0;34m=\u001b[0m \u001b[0mtoolbox\u001b[0m\u001b[0;34m.\u001b[0m\u001b[0mmap\u001b[0m\u001b[0;34m(\u001b[0m\u001b[0mtoolbox\u001b[0m\u001b[0;34m.\u001b[0m\u001b[0mevaluate\u001b[0m\u001b[0;34m,\u001b[0m \u001b[0minvalid_ind\u001b[0m\u001b[0;34m)\u001b[0m\u001b[0;34m\u001b[0m\u001b[0;34m\u001b[0m\u001b[0m\n\u001b[0;32m--> 173\u001b[0;31m         \u001b[0;32mfor\u001b[0m \u001b[0mind\u001b[0m\u001b[0;34m,\u001b[0m \u001b[0mfit\u001b[0m \u001b[0;32min\u001b[0m \u001b[0mzip\u001b[0m\u001b[0;34m(\u001b[0m\u001b[0minvalid_ind\u001b[0m\u001b[0;34m,\u001b[0m \u001b[0mfitnesses\u001b[0m\u001b[0;34m)\u001b[0m\u001b[0;34m:\u001b[0m\u001b[0;34m\u001b[0m\u001b[0;34m\u001b[0m\u001b[0m\n\u001b[0m\u001b[1;32m    174\u001b[0m             \u001b[0mind\u001b[0m\u001b[0;34m.\u001b[0m\u001b[0mfitness\u001b[0m\u001b[0;34m.\u001b[0m\u001b[0mvalues\u001b[0m \u001b[0;34m=\u001b[0m \u001b[0mfit\u001b[0m\u001b[0;34m\u001b[0m\u001b[0;34m\u001b[0m\u001b[0m\n\u001b[1;32m    175\u001b[0m \u001b[0;34m\u001b[0m\u001b[0m\n",
      "\u001b[0;32m<ipython-input-8-3b38cb76f9e7>\u001b[0m in \u001b[0;36mevaluate\u001b[0;34m(individual)\u001b[0m\n\u001b[1;32m      7\u001b[0m     \u001b[0;32mtry\u001b[0m\u001b[0;34m:\u001b[0m\u001b[0;34m\u001b[0m\u001b[0;34m\u001b[0m\u001b[0m\n\u001b[1;32m      8\u001b[0m         \u001b[0mcheck_keyboard\u001b[0m\u001b[0;34m(\u001b[0m\u001b[0mindividual\u001b[0m\u001b[0;34m,\u001b[0m \u001b[0mkeys\u001b[0m\u001b[0;34m)\u001b[0m\u001b[0;34m\u001b[0m\u001b[0;34m\u001b[0m\u001b[0m\n\u001b[0;32m----> 9\u001b[0;31m         \u001b[0;32mreturn\u001b[0m \u001b[0;34m[\u001b[0m\u001b[0mcompute_cost\u001b[0m\u001b[0;34m(\u001b[0m\u001b[0;34m''\u001b[0m\u001b[0;34m.\u001b[0m\u001b[0mjoin\u001b[0m\u001b[0;34m(\u001b[0m\u001b[0mlist\u001b[0m\u001b[0;34m(\u001b[0m\u001b[0mindividual\u001b[0m\u001b[0;34m)\u001b[0m\u001b[0;34m)\u001b[0m\u001b[0;34m,\u001b[0m \u001b[0mcorpus\u001b[0m\u001b[0;34m)\u001b[0m\u001b[0;34m]\u001b[0m\u001b[0;34m\u001b[0m\u001b[0;34m\u001b[0m\u001b[0m\n\u001b[0m\u001b[1;32m     10\u001b[0m     \u001b[0;32mexcept\u001b[0m \u001b[0mAssertionError\u001b[0m\u001b[0;34m:\u001b[0m\u001b[0;34m\u001b[0m\u001b[0;34m\u001b[0m\u001b[0m\n\u001b[1;32m     11\u001b[0m         \u001b[0;32mreturn\u001b[0m \u001b[0;34m[\u001b[0m\u001b[0mnp\u001b[0m\u001b[0;34m.\u001b[0m\u001b[0minf\u001b[0m\u001b[0;34m]\u001b[0m\u001b[0;34m\u001b[0m\u001b[0;34m\u001b[0m\u001b[0m\n",
      "\u001b[0;32m~/Desktop/dssgsummit2020-challenge/dssg_challenge/compute_cost.py\u001b[0m in \u001b[0;36mcompute_cost\u001b[0;34m(keyboard, corpus)\u001b[0m\n\u001b[1;32m     52\u001b[0m         \u001b[0mnode_cost\u001b[0m\u001b[0;34m,\u001b[0m \u001b[0mnode_char_idx\u001b[0m\u001b[0;34m,\u001b[0m \u001b[0mnode_key_idx\u001b[0m \u001b[0;34m=\u001b[0m \u001b[0mnode\u001b[0m\u001b[0;34m\u001b[0m\u001b[0;34m\u001b[0m\u001b[0m\n\u001b[1;32m     53\u001b[0m \u001b[0;34m\u001b[0m\u001b[0m\n\u001b[0;32m---> 54\u001b[0;31m         \u001b[0;32mif\u001b[0m \u001b[0mnode_char_idx\u001b[0m \u001b[0;34m+\u001b[0m \u001b[0;36m1\u001b[0m \u001b[0;34m==\u001b[0m \u001b[0mlen\u001b[0m\u001b[0;34m(\u001b[0m\u001b[0mcorpus\u001b[0m\u001b[0;34m)\u001b[0m\u001b[0;34m:\u001b[0m\u001b[0;34m\u001b[0m\u001b[0;34m\u001b[0m\u001b[0m\n\u001b[0m\u001b[1;32m     55\u001b[0m             \u001b[0;32mreturn\u001b[0m \u001b[0mnode_cost\u001b[0m\u001b[0;34m\u001b[0m\u001b[0;34m\u001b[0m\u001b[0m\n\u001b[1;32m     56\u001b[0m \u001b[0;34m\u001b[0m\u001b[0m\n",
      "\u001b[0;31mKeyboardInterrupt\u001b[0m: "
     ]
    }
   ],
   "source": [
    "creator.create('FitnessMin', base.Fitness, weights=(-1.0,))\n",
    "creator.create('Individual', np.ndarray, fitness=creator.FitnessMin)\n",
    "\n",
    "toolbox = base.Toolbox()\n",
    "\n",
    "# Tool to randomly initialize an individual\n",
    "toolbox.register('attribute',\n",
    "        np.random.permutation, np.array(list(baseline))\n",
    ")\n",
    "\n",
    "toolbox.register('individual',\n",
    "    tools.initIterate,\n",
    "    creator.Individual,\n",
    "    toolbox.attribute\n",
    ")\n",
    "\n",
    "toolbox.register('population',\n",
    "    tools.initRepeat,\n",
    "    list,\n",
    "    toolbox.individual\n",
    ")\n",
    "\n",
    "toolbox.register(\"evaluate\", evaluate)\n",
    "toolbox.register(\"mate\", tools.cxOnePoint)\n",
    "toolbox.register(\"mutate\", tools.mutShuffleIndexes, indpb=0.05)\n",
    "toolbox.register(\"select\", tools.selTournament, tournsize=3)\n",
    "\n",
    "def main():\n",
    "    np.random.seed(64)\n",
    "\n",
    "    pop = toolbox.population(n=5)\n",
    "\n",
    "    # Numpy equality function (operators.eq) between two arrays returns the\n",
    "    # equality element wise, which raises an exception in the if similar()\n",
    "    # check of the hall of fame. Using a different equality function like\n",
    "    # numpy.array_equal or numpy.allclose solve this issue.\n",
    "    hof = tools.HallOfFame(1, similar=np.array_equal)\n",
    "\n",
    "    stats = tools.Statistics(lambda ind: ind.fitness.values)\n",
    "    stats.register(\"avg\", np.mean)\n",
    "    stats.register(\"std\", np.std)\n",
    "    stats.register(\"min\", np.min)\n",
    "    stats.register(\"max\", np.max)\n",
    "\n",
    "    algorithms.eaSimple(pop, toolbox, cxpb=0, mutpb=0.6, ngen=1000, stats=stats,\n",
    "                        halloffame=hof)\n",
    "\n",
    "    return pop, stats, hof\n",
    "\n",
    "\n",
    "pop, stats, hof = main()\n"
   ]
  }
 ],
 "metadata": {
  "kernelspec": {
   "display_name": "Python 3",
   "language": "python",
   "name": "python3"
  },
  "language_info": {
   "codemirror_mode": {
    "name": "ipython",
    "version": 3
   },
   "file_extension": ".py",
   "mimetype": "text/x-python",
   "name": "python",
   "nbconvert_exporter": "python",
   "pygments_lexer": "ipython3",
   "version": "3.8.5"
  }
 },
 "nbformat": 4,
 "nbformat_minor": 4
}
