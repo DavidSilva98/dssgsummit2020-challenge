{
 "cells": [
  {
   "cell_type": "code",
   "execution_count": 1,
   "metadata": {},
   "outputs": [],
   "source": [
    "!pip install deap -q"
   ]
  },
  {
   "cell_type": "code",
   "execution_count": 1,
   "metadata": {},
   "outputs": [],
   "source": [
    "import os\n",
    "from os.path import join, pardir\n",
    "from collections import Counter\n",
    "from copy import deepcopy\n",
    "import numpy as np\n",
    "from deap import base, creator, algorithms, tools\n",
    "from dssg_challenge import compute_cost, check_keyboard\n",
    "\n",
    "RNG_SEED = 0\n",
    "DATA_DSSG = join(pardir, 'data', 'raw')\n",
    "\n",
    "rng = np.random.RandomState(RNG_SEED)"
   ]
  },
  {
   "cell_type": "code",
   "execution_count": 2,
   "metadata": {},
   "outputs": [
    {
     "data": {
      "text/plain": [
       "['pt-corpus.txt', '.gitkeep', 'pt-keys.txt', 'en-keys.txt', 'en-corpus.txt']"
      ]
     },
     "execution_count": 2,
     "metadata": {},
     "output_type": "execute_result"
    }
   ],
   "source": [
    "os.listdir(DATA_DSSG)"
   ]
  },
  {
   "cell_type": "code",
   "execution_count": 3,
   "metadata": {},
   "outputs": [],
   "source": [
    "# get keys\n",
    "with open(join(DATA_DSSG, 'pt-keys.txt'), 'r') as file:\n",
    "    keys = file.read()\n",
    "\n",
    "# get corpus example\n",
    "with open(join(DATA_DSSG, 'pt-corpus.txt'), 'r') as file:\n",
    "    corpus = file.read()\n",
    "\n",
    "keys = ''.join(keys.split('\\n'))\n",
    "corpus = ''.join(corpus.split(keys)).split('\\n')[0]"
   ]
  },
  {
   "cell_type": "markdown",
   "metadata": {},
   "source": [
    "Some keys are used to signal special characters. Namely,\n",
    "\n",
    "- The ENTER key is represented as 0.\n",
    "- The shift key for capitalization is represented as ^.\n",
    "- The backspace key is represented as <.\n",
    "- All the remaining characters not found in the valid keys are encoded as #.\n",
    "- Empty keys will contain the character _.\n"
   ]
  },
  {
   "cell_type": "code",
   "execution_count": 5,
   "metadata": {},
   "outputs": [
    {
     "data": {
      "text/plain": [
       "(36, \"ABCDEFGHIJKLMNOPQ RSTUVWXYZ0.#,^?<'~\")"
      ]
     },
     "execution_count": 5,
     "metadata": {},
     "output_type": "execute_result"
    }
   ],
   "source": [
    "len(keys), keys"
   ]
  },
  {
   "cell_type": "markdown",
   "metadata": {},
   "source": [
    "## The most basic approaches"
   ]
  },
  {
   "cell_type": "code",
   "execution_count": null,
   "metadata": {},
   "outputs": [],
   "source": [
    "Counter(corpus).most_common()[:10]"
   ]
  },
  {
   "cell_type": "code",
   "execution_count": 6,
   "metadata": {},
   "outputs": [
    {
     "data": {
      "text/plain": [
       "\" AROES0#TMNUID,CLPB'VH<G~JQFZ.KWXY^? \""
      ]
     },
     "execution_count": 6,
     "metadata": {},
     "output_type": "execute_result"
    }
   ],
   "source": [
    "baseline = ''.join([i[0] for i in Counter(corpus).most_common()])\n",
    "baseline = baseline + ''.join([i for i in keys if i not in baseline]) + ' '\n",
    "baseline"
   ]
  },
  {
   "cell_type": "code",
   "execution_count": 7,
   "metadata": {
    "scrolled": true
   },
   "outputs": [
    {
     "name": "stdout",
     "output_type": "stream",
     "text": [
      "Shuffled cost:\t\t 5088.806814781539\n",
      "Original keys cost:\t 4541.244466418746\n",
      "Baseline cost:\t\t 3189.713309637487\n"
     ]
    }
   ],
   "source": [
    "shuffled = list(baseline)\n",
    "rng.shuffle(shuffled)\n",
    "\n",
    "check_keyboard(baseline, keys)\n",
    "check_keyboard(keys+' ', keys)\n",
    "check_keyboard(shuffled, keys)\n",
    "\n",
    "print('Shuffled cost:\\t\\t', compute_cost(''.join(shuffled), corpus))\n",
    "print('Original keys cost:\\t', compute_cost(keys+' ', corpus))\n",
    "print('Baseline cost:\\t\\t', compute_cost(baseline, corpus))"
   ]
  },
  {
   "cell_type": "markdown",
   "metadata": {},
   "source": [
    "## First attempt with GA"
   ]
  },
  {
   "cell_type": "code",
   "execution_count": 8,
   "metadata": {},
   "outputs": [],
   "source": [
    "keys_list = list(keys)\n",
    "\n",
    "def evaluate(individual):\n",
    "    \"\"\"\n",
    "    Computes the cost for each individual.\n",
    "    \"\"\"\n",
    "    try:\n",
    "        check_keyboard(individual, keys)\n",
    "        return [compute_cost(''.join(list(individual)), corpus)]\n",
    "    except AssertionError:\n",
    "        return [np.inf]\n",
    "\n",
    "def mutFlip(ind1, ind2):\n",
    "    \"\"\"Execute a two points crossover with copy on the input individuals. The\n",
    "    copy is required because the slicing in numpy returns a view of the data,\n",
    "    which leads to a self overwritting in the swap operation.\n",
    "    \"\"\"\n",
    "\n",
    "    ind = ind1.copy()\n",
    "    for x, value in np.ndenumerate(ind):\n",
    "        if np.random.random() < .05:\n",
    "            ind[x] = np.random.choice(keys_list)\n",
    "    try:\n",
    "        check_keyboard(ind, keys)\n",
    "        return ind, ind2\n",
    "    except AssertionError:\n",
    "        return mutFlip(individual, ind2)\n",
    "    \n",
    "    return ind, ind2\n"
   ]
  },
  {
   "cell_type": "code",
   "execution_count": 11,
   "metadata": {
    "scrolled": false
   },
   "outputs": [
    {
     "name": "stdout",
     "output_type": "stream",
     "text": [
      "gen\tnevals\tavg    \tstd    \tmin   \tmax    \n",
      "0  \t10    \t5127.31\t353.095\t4541.6\t5872.66\n",
      "1  \t8     \t4973.65\t60.5206\t4895.18\t5096.75\n",
      "2  \t7     \t4986.66\t109.597\t4858.07\t5277.38\n",
      "3  \t5     \t4898.95\t62.8849\t4817.44\t5000.87\n",
      "4  \t8     \t4912.79\t261.166\t4585.33\t5639.21\n",
      "5  \t7     \t4710.69\t174.203\t4301.33\t4910.99\n",
      "6  \t8     \t4576.08\t244.768\t4285.42\t5057.85\n",
      "7  \t4     \t4401.64\t216.663\t4075.38\t4885.66\n",
      "8  \t8     \t4214.07\t84.3895\t4069.19\t4314.63\n",
      "9  \t5     \t4169.14\t71.1615\t4069.19\t4280.15\n",
      "10 \t8     \t4275.21\t252.176\t4050.34\t4887.66\n",
      "11 \t4     \t4123.92\t228.158\t3947.92\t4800.43\n",
      "12 \t5     \t4056.35\t137.573\t3947.92\t4394   \n",
      "13 \t4     \t4018.72\t128.03 \t3940.36\t4342.55\n",
      "14 \t7     \t4056.48\t132.883\t3947.92\t4279.84\n",
      "15 \t5     \t3998.44\t58.0004\t3938.77\t4118.12\n",
      "16 \t6     \t4113.03\t190.275\t3932.39\t4390.83\n",
      "17 \t5     \t4095.37\t191.78 \t3894.79\t4411.41\n",
      "18 \t4     \t4025.32\t192.869\t3894.79\t4423.98\n",
      "19 \t7     \t4107.04\t259.799\t3894.79\t4717.22\n",
      "20 \t6     \t4029.49\t202.748\t3891.57\t4409.22\n",
      "21 \t8     \t4080.3 \t319.98 \t3749.65\t4974.66\n",
      "22 \t5     \t3959.84\t217.706\t3753.24\t4586.52\n",
      "23 \t5     \t3850.68\t79.8124\t3753.24\t4035.69\n",
      "24 \t5     \t3813.5 \t119.804\t3708.67\t4134.87\n",
      "25 \t7     \t3838.06\t208.883\t3685.49\t4379.65\n",
      "26 \t7     \t3801.61\t189.036\t3685.49\t4362.08\n",
      "27 \t7     \t3778.68\t125.557\t3637.7 \t4078.97\n",
      "28 \t7     \t3803.74\t168.272\t3637.7 \t4204.28\n",
      "29 \t7     \t3857.02\t195.318\t3599.69\t4353.73\n",
      "30 \t6     \t3865.47\t269.299\t3599.69\t4478.63\n",
      "31 \t6     \t3845.17\t241.228\t3599.69\t4238   \n",
      "32 \t7     \t3822.22\t217.371\t3599.69\t4192.18\n",
      "33 \t6     \t3796.06\t228.71 \t3599.69\t4395.62\n",
      "34 \t6     \t3732.5 \t104.402\t3599.69\t3915.75\n",
      "35 \t2     \t3654.06\t59.3507\t3599.69\t3744.72\n",
      "36 \t7     \t3753.36\t203.012\t3599.69\t4160.16\n",
      "37 \t6     \t3726.26\t193.006\t3599.69\t4090.8 \n",
      "38 \t8     \t3763.65\t223.104\t3593.15\t4202.81\n",
      "39 \t6     \t3737.89\t144.196\t3599.69\t4040.49\n",
      "40 \t8     \t3742.47\t170.57 \t3601.31\t4203.17\n",
      "41 \t6     \t3779.77\t187.18 \t3601.31\t4215.33\n",
      "42 \t7     \t3721.35\t160.743\t3601.31\t4046.03\n",
      "43 \t8     \t3662.17\t58.1475\t3600.28\t3775.3 \n",
      "44 \t5     \t3671.77\t126.766\t3600.28\t4025.23\n",
      "45 \t6     \t3679.29\t195.582\t3600.28\t4260.65\n"
     ]
    },
    {
     "ename": "KeyboardInterrupt",
     "evalue": "",
     "output_type": "error",
     "traceback": [
      "\u001b[0;31m---------------------------------------------------------------------------\u001b[0m",
      "\u001b[0;31mKeyboardInterrupt\u001b[0m                         Traceback (most recent call last)",
      "\u001b[0;32m<ipython-input-11-d9aef50e74e7>\u001b[0m in \u001b[0;36m<module>\u001b[0;34m\u001b[0m\n\u001b[1;32m     49\u001b[0m \u001b[0;34m\u001b[0m\u001b[0m\n\u001b[1;32m     50\u001b[0m \u001b[0;34m\u001b[0m\u001b[0m\n\u001b[0;32m---> 51\u001b[0;31m \u001b[0mpop\u001b[0m\u001b[0;34m,\u001b[0m \u001b[0mstats\u001b[0m\u001b[0;34m,\u001b[0m \u001b[0mhof\u001b[0m \u001b[0;34m=\u001b[0m \u001b[0mmain\u001b[0m\u001b[0;34m(\u001b[0m\u001b[0;34m)\u001b[0m\u001b[0;34m\u001b[0m\u001b[0;34m\u001b[0m\u001b[0m\n\u001b[0m",
      "\u001b[0;32m<ipython-input-11-d9aef50e74e7>\u001b[0m in \u001b[0;36mmain\u001b[0;34m()\u001b[0m\n\u001b[1;32m     43\u001b[0m     \u001b[0mstats\u001b[0m\u001b[0;34m.\u001b[0m\u001b[0mregister\u001b[0m\u001b[0;34m(\u001b[0m\u001b[0;34m\"max\"\u001b[0m\u001b[0;34m,\u001b[0m \u001b[0mnp\u001b[0m\u001b[0;34m.\u001b[0m\u001b[0mmax\u001b[0m\u001b[0;34m)\u001b[0m\u001b[0;34m\u001b[0m\u001b[0;34m\u001b[0m\u001b[0m\n\u001b[1;32m     44\u001b[0m \u001b[0;34m\u001b[0m\u001b[0m\n\u001b[0;32m---> 45\u001b[0;31m     algorithms.eaSimple(pop, toolbox, cxpb=0, mutpb=0.6, ngen=1000, stats=stats,\n\u001b[0m\u001b[1;32m     46\u001b[0m                         halloffame=hof)\n\u001b[1;32m     47\u001b[0m \u001b[0;34m\u001b[0m\u001b[0m\n",
      "\u001b[0;32m~/miniconda3/envs/als-dssg/lib/python3.8/site-packages/deap/algorithms.py\u001b[0m in \u001b[0;36meaSimple\u001b[0;34m(population, toolbox, cxpb, mutpb, ngen, stats, halloffame, verbose)\u001b[0m\n\u001b[1;32m    171\u001b[0m         \u001b[0minvalid_ind\u001b[0m \u001b[0;34m=\u001b[0m \u001b[0;34m[\u001b[0m\u001b[0mind\u001b[0m \u001b[0;32mfor\u001b[0m \u001b[0mind\u001b[0m \u001b[0;32min\u001b[0m \u001b[0moffspring\u001b[0m \u001b[0;32mif\u001b[0m \u001b[0;32mnot\u001b[0m \u001b[0mind\u001b[0m\u001b[0;34m.\u001b[0m\u001b[0mfitness\u001b[0m\u001b[0;34m.\u001b[0m\u001b[0mvalid\u001b[0m\u001b[0;34m]\u001b[0m\u001b[0;34m\u001b[0m\u001b[0;34m\u001b[0m\u001b[0m\n\u001b[1;32m    172\u001b[0m         \u001b[0mfitnesses\u001b[0m \u001b[0;34m=\u001b[0m \u001b[0mtoolbox\u001b[0m\u001b[0;34m.\u001b[0m\u001b[0mmap\u001b[0m\u001b[0;34m(\u001b[0m\u001b[0mtoolbox\u001b[0m\u001b[0;34m.\u001b[0m\u001b[0mevaluate\u001b[0m\u001b[0;34m,\u001b[0m \u001b[0minvalid_ind\u001b[0m\u001b[0;34m)\u001b[0m\u001b[0;34m\u001b[0m\u001b[0;34m\u001b[0m\u001b[0m\n\u001b[0;32m--> 173\u001b[0;31m         \u001b[0;32mfor\u001b[0m \u001b[0mind\u001b[0m\u001b[0;34m,\u001b[0m \u001b[0mfit\u001b[0m \u001b[0;32min\u001b[0m \u001b[0mzip\u001b[0m\u001b[0;34m(\u001b[0m\u001b[0minvalid_ind\u001b[0m\u001b[0;34m,\u001b[0m \u001b[0mfitnesses\u001b[0m\u001b[0;34m)\u001b[0m\u001b[0;34m:\u001b[0m\u001b[0;34m\u001b[0m\u001b[0;34m\u001b[0m\u001b[0m\n\u001b[0m\u001b[1;32m    174\u001b[0m             \u001b[0mind\u001b[0m\u001b[0;34m.\u001b[0m\u001b[0mfitness\u001b[0m\u001b[0;34m.\u001b[0m\u001b[0mvalues\u001b[0m \u001b[0;34m=\u001b[0m \u001b[0mfit\u001b[0m\u001b[0;34m\u001b[0m\u001b[0;34m\u001b[0m\u001b[0m\n\u001b[1;32m    175\u001b[0m \u001b[0;34m\u001b[0m\u001b[0m\n",
      "\u001b[0;32m<ipython-input-8-3b38cb76f9e7>\u001b[0m in \u001b[0;36mevaluate\u001b[0;34m(individual)\u001b[0m\n\u001b[1;32m      7\u001b[0m     \u001b[0;32mtry\u001b[0m\u001b[0;34m:\u001b[0m\u001b[0;34m\u001b[0m\u001b[0;34m\u001b[0m\u001b[0m\n\u001b[1;32m      8\u001b[0m         \u001b[0mcheck_keyboard\u001b[0m\u001b[0;34m(\u001b[0m\u001b[0mindividual\u001b[0m\u001b[0;34m,\u001b[0m \u001b[0mkeys\u001b[0m\u001b[0;34m)\u001b[0m\u001b[0;34m\u001b[0m\u001b[0;34m\u001b[0m\u001b[0m\n\u001b[0;32m----> 9\u001b[0;31m         \u001b[0;32mreturn\u001b[0m \u001b[0;34m[\u001b[0m\u001b[0mcompute_cost\u001b[0m\u001b[0;34m(\u001b[0m\u001b[0;34m''\u001b[0m\u001b[0;34m.\u001b[0m\u001b[0mjoin\u001b[0m\u001b[0;34m(\u001b[0m\u001b[0mlist\u001b[0m\u001b[0;34m(\u001b[0m\u001b[0mindividual\u001b[0m\u001b[0;34m)\u001b[0m\u001b[0;34m)\u001b[0m\u001b[0;34m,\u001b[0m \u001b[0mcorpus\u001b[0m\u001b[0;34m)\u001b[0m\u001b[0;34m]\u001b[0m\u001b[0;34m\u001b[0m\u001b[0;34m\u001b[0m\u001b[0m\n\u001b[0m\u001b[1;32m     10\u001b[0m     \u001b[0;32mexcept\u001b[0m \u001b[0mAssertionError\u001b[0m\u001b[0;34m:\u001b[0m\u001b[0;34m\u001b[0m\u001b[0;34m\u001b[0m\u001b[0m\n\u001b[1;32m     11\u001b[0m         \u001b[0;32mreturn\u001b[0m \u001b[0;34m[\u001b[0m\u001b[0mnp\u001b[0m\u001b[0;34m.\u001b[0m\u001b[0minf\u001b[0m\u001b[0;34m]\u001b[0m\u001b[0;34m\u001b[0m\u001b[0;34m\u001b[0m\u001b[0m\n",
      "\u001b[0;32m~/Desktop/dssgsummit2020-challenge/dssg_challenge/compute_cost.py\u001b[0m in \u001b[0;36mcompute_cost\u001b[0;34m(keyboard, corpus)\u001b[0m\n\u001b[1;32m     65\u001b[0m         \u001b[0;32mfor\u001b[0m \u001b[0mnext_pos\u001b[0m \u001b[0;32min\u001b[0m \u001b[0mmapping\u001b[0m\u001b[0;34m.\u001b[0m\u001b[0mget\u001b[0m\u001b[0;34m(\u001b[0m\u001b[0mcorpus\u001b[0m\u001b[0;34m[\u001b[0m\u001b[0mnode_char_idx\u001b[0m \u001b[0;34m+\u001b[0m \u001b[0;36m1\u001b[0m\u001b[0;34m]\u001b[0m\u001b[0;34m,\u001b[0m \u001b[0;34m[\u001b[0m\u001b[0;34m]\u001b[0m\u001b[0;34m)\u001b[0m\u001b[0;34m:\u001b[0m\u001b[0;34m\u001b[0m\u001b[0;34m\u001b[0m\u001b[0m\n\u001b[1;32m     66\u001b[0m             \u001b[0mnext_cost\u001b[0m \u001b[0;34m=\u001b[0m \u001b[0mnode_cost\u001b[0m \u001b[0;34m+\u001b[0m\u001b[0;31m \u001b[0m\u001b[0;31m\\\u001b[0m\u001b[0;34m\u001b[0m\u001b[0;34m\u001b[0m\u001b[0m\n\u001b[0;32m---> 67\u001b[0;31m                 np.sqrt(np.sum(np.square(COORDS[next_pos] -\n\u001b[0m\u001b[1;32m     68\u001b[0m                                          COORDS[node_key_idx])))\n\u001b[1;32m     69\u001b[0m \u001b[0;34m\u001b[0m\u001b[0m\n",
      "\u001b[0;32m<__array_function__ internals>\u001b[0m in \u001b[0;36msum\u001b[0;34m(*args, **kwargs)\u001b[0m\n",
      "\u001b[0;32m~/miniconda3/envs/als-dssg/lib/python3.8/site-packages/numpy/core/fromnumeric.py\u001b[0m in \u001b[0;36msum\u001b[0;34m(a, axis, dtype, out, keepdims, initial, where)\u001b[0m\n\u001b[1;32m   2239\u001b[0m         \u001b[0;32mreturn\u001b[0m \u001b[0mres\u001b[0m\u001b[0;34m\u001b[0m\u001b[0;34m\u001b[0m\u001b[0m\n\u001b[1;32m   2240\u001b[0m \u001b[0;34m\u001b[0m\u001b[0m\n\u001b[0;32m-> 2241\u001b[0;31m     return _wrapreduction(a, np.add, 'sum', axis, dtype, out, keepdims=keepdims,\n\u001b[0m\u001b[1;32m   2242\u001b[0m                           initial=initial, where=where)\n\u001b[1;32m   2243\u001b[0m \u001b[0;34m\u001b[0m\u001b[0m\n",
      "\u001b[0;32m~/miniconda3/envs/als-dssg/lib/python3.8/site-packages/numpy/core/fromnumeric.py\u001b[0m in \u001b[0;36m_wrapreduction\u001b[0;34m(obj, ufunc, method, axis, dtype, out, **kwargs)\u001b[0m\n\u001b[1;32m     85\u001b[0m                 \u001b[0;32mreturn\u001b[0m \u001b[0mreduction\u001b[0m\u001b[0;34m(\u001b[0m\u001b[0maxis\u001b[0m\u001b[0;34m=\u001b[0m\u001b[0maxis\u001b[0m\u001b[0;34m,\u001b[0m \u001b[0mout\u001b[0m\u001b[0;34m=\u001b[0m\u001b[0mout\u001b[0m\u001b[0;34m,\u001b[0m \u001b[0;34m**\u001b[0m\u001b[0mpasskwargs\u001b[0m\u001b[0;34m)\u001b[0m\u001b[0;34m\u001b[0m\u001b[0;34m\u001b[0m\u001b[0m\n\u001b[1;32m     86\u001b[0m \u001b[0;34m\u001b[0m\u001b[0m\n\u001b[0;32m---> 87\u001b[0;31m     \u001b[0;32mreturn\u001b[0m \u001b[0mufunc\u001b[0m\u001b[0;34m.\u001b[0m\u001b[0mreduce\u001b[0m\u001b[0;34m(\u001b[0m\u001b[0mobj\u001b[0m\u001b[0;34m,\u001b[0m \u001b[0maxis\u001b[0m\u001b[0;34m,\u001b[0m \u001b[0mdtype\u001b[0m\u001b[0;34m,\u001b[0m \u001b[0mout\u001b[0m\u001b[0;34m,\u001b[0m \u001b[0;34m**\u001b[0m\u001b[0mpasskwargs\u001b[0m\u001b[0;34m)\u001b[0m\u001b[0;34m\u001b[0m\u001b[0;34m\u001b[0m\u001b[0m\n\u001b[0m\u001b[1;32m     88\u001b[0m \u001b[0;34m\u001b[0m\u001b[0m\n\u001b[1;32m     89\u001b[0m \u001b[0;34m\u001b[0m\u001b[0m\n",
      "\u001b[0;31mKeyboardInterrupt\u001b[0m: "
     ]
    }
   ],
   "source": [
    "creator.create('FitnessMin', base.Fitness, weights=(-1.0,))\n",
    "creator.create('Individual', np.ndarray, fitness=creator.FitnessMin)\n",
    "\n",
    "toolbox = base.Toolbox()\n",
    "\n",
    "# Tool to randomly initialize an individual\n",
    "toolbox.register('attribute',\n",
    "        np.random.permutation, np.array(list(baseline))\n",
    ")\n",
    "\n",
    "toolbox.register('individual',\n",
    "    tools.initIterate,\n",
    "    creator.Individual,\n",
    "    toolbox.attribute\n",
    ")\n",
    "\n",
    "toolbox.register('population',\n",
    "    tools.initRepeat,\n",
    "    list,\n",
    "    toolbox.individual\n",
    ")\n",
    "\n",
    "toolbox.register(\"evaluate\", evaluate)\n",
    "toolbox.register(\"mate\", tools.cxOnePoint)\n",
    "toolbox.register(\"mutate\", tools.mutShuffleIndexes, indpb=0.05)\n",
    "toolbox.register(\"select\", tools.selTournament, tournsize=3)\n",
    "\n",
    "def main():\n",
    "    np.random.seed(64)\n",
    "\n",
    "    pop = toolbox.population(n=10)\n",
    "\n",
    "    # Numpy equality function (operators.eq) between two arrays returns the\n",
    "    # equality element wise, which raises an exception in the if similar()\n",
    "    # check of the hall of fame. Using a different equality function like\n",
    "    # numpy.array_equal or numpy.allclose solve this issue.\n",
    "    hof = tools.HallOfFame(1, similar=np.array_equal)\n",
    "\n",
    "    stats = tools.Statistics(lambda ind: ind.fitness.values)\n",
    "    stats.register(\"avg\", np.mean)\n",
    "    stats.register(\"std\", np.std)\n",
    "    stats.register(\"min\", np.min)\n",
    "    stats.register(\"max\", np.max)\n",
    "\n",
    "    algorithms.eaSimple(pop, toolbox, cxpb=0, mutpb=0.6, ngen=1000, stats=stats,\n",
    "                        halloffame=hof)\n",
    "\n",
    "    return pop, stats, hof\n",
    "\n",
    "\n",
    "pop, stats, hof = main()\n"
   ]
  }
 ],
 "metadata": {
  "kernelspec": {
   "display_name": "Python 3",
   "language": "python",
   "name": "python3"
  },
  "language_info": {
   "codemirror_mode": {
    "name": "ipython",
    "version": 3
   },
   "file_extension": ".py",
   "mimetype": "text/x-python",
   "name": "python",
   "nbconvert_exporter": "python",
   "pygments_lexer": "ipython3",
   "version": "3.8.5"
  }
 },
 "nbformat": 4,
 "nbformat_minor": 4
}
